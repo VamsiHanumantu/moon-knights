{
 "cells": [
  {
   "cell_type": "code",
   "execution_count": 1,
   "id": "244ec270",
   "metadata": {},
   "outputs": [],
   "source": [
    "# impporting the library\n",
    "import pandas as pd\n",
    "import numpy as np\n",
    "import random\n",
    "\n",
    "\n",
    "# Machine Learning Packages\n",
    "from sklearn.feature_extraction.text import CountVectorizer\n",
    "from sklearn.feature_extraction.text import TfidfVectorizer\n",
    "from sklearn.linear_model import LogisticRegression\n",
    "from sklearn.ensemble import RandomForestClassifier\n",
    "from sklearn.model_selection import train_test_split\n",
    "\n",
    "df=pd.read_csv(\"datathon_train.csv\")"
   ]
  },
  {
   "cell_type": "code",
   "execution_count": 2,
   "id": "3895a499",
   "metadata": {},
   "outputs": [
    {
     "data": {
      "text/html": [
       "<div>\n",
       "<style scoped>\n",
       "    .dataframe tbody tr th:only-of-type {\n",
       "        vertical-align: middle;\n",
       "    }\n",
       "\n",
       "    .dataframe tbody tr th {\n",
       "        vertical-align: top;\n",
       "    }\n",
       "\n",
       "    .dataframe thead th {\n",
       "        text-align: right;\n",
       "    }\n",
       "</style>\n",
       "<table border=\"1\" class=\"dataframe\">\n",
       "  <thead>\n",
       "    <tr style=\"text-align: right;\">\n",
       "      <th></th>\n",
       "      <th>links</th>\n",
       "      <th>values</th>\n",
       "    </tr>\n",
       "  </thead>\n",
       "  <tbody>\n",
       "    <tr>\n",
       "      <th>0</th>\n",
       "      <td>http://yasli-sad.ru/css/chase/chaseall%20newin...</td>\n",
       "      <td>1</td>\n",
       "    </tr>\n",
       "    <tr>\n",
       "      <th>1</th>\n",
       "      <td>http://denizkent.net/wp-admin/js/login.alibaba...</td>\n",
       "      <td>1</td>\n",
       "    </tr>\n",
       "    <tr>\n",
       "      <th>2</th>\n",
       "      <td>http://www.marketbiz.net/mbz/wp-includes/js/jq...</td>\n",
       "      <td>1</td>\n",
       "    </tr>\n",
       "    <tr>\n",
       "      <th>3</th>\n",
       "      <td>http://guardiaoitau30horas.uniclassdispositivo...</td>\n",
       "      <td>1</td>\n",
       "    </tr>\n",
       "    <tr>\n",
       "      <th>4</th>\n",
       "      <td>http://chancejumpers.com/christmas/christmas-h...</td>\n",
       "      <td>0</td>\n",
       "    </tr>\n",
       "    <tr>\n",
       "      <th>...</th>\n",
       "      <td>...</td>\n",
       "      <td>...</td>\n",
       "    </tr>\n",
       "    <tr>\n",
       "      <th>100854</th>\n",
       "      <td>http://crop-topsnn.oucreate.com/grn/</td>\n",
       "      <td>1</td>\n",
       "    </tr>\n",
       "    <tr>\n",
       "      <th>100855</th>\n",
       "      <td>http://jacksonvillenursinghomelawyers.com/Driv...</td>\n",
       "      <td>1</td>\n",
       "    </tr>\n",
       "    <tr>\n",
       "      <th>100856</th>\n",
       "      <td>http://www.smallappliance.com/product.asp?cur=...</td>\n",
       "      <td>0</td>\n",
       "    </tr>\n",
       "    <tr>\n",
       "      <th>100857</th>\n",
       "      <td>http://www.skofija-novomesto.si/</td>\n",
       "      <td>0</td>\n",
       "    </tr>\n",
       "    <tr>\n",
       "      <th>100858</th>\n",
       "      <td>http://ferlafashion.com/saint/www.loginalibaba...</td>\n",
       "      <td>1</td>\n",
       "    </tr>\n",
       "  </tbody>\n",
       "</table>\n",
       "<p>100859 rows × 2 columns</p>\n",
       "</div>"
      ],
      "text/plain": [
       "                                                    links  values\n",
       "0       http://yasli-sad.ru/css/chase/chaseall%20newin...       1\n",
       "1       http://denizkent.net/wp-admin/js/login.alibaba...       1\n",
       "2       http://www.marketbiz.net/mbz/wp-includes/js/jq...       1\n",
       "3       http://guardiaoitau30horas.uniclassdispositivo...       1\n",
       "4       http://chancejumpers.com/christmas/christmas-h...       0\n",
       "...                                                   ...     ...\n",
       "100854               http://crop-topsnn.oucreate.com/grn/       1\n",
       "100855  http://jacksonvillenursinghomelawyers.com/Driv...       1\n",
       "100856  http://www.smallappliance.com/product.asp?cur=...       0\n",
       "100857                   http://www.skofija-novomesto.si/       0\n",
       "100858  http://ferlafashion.com/saint/www.loginalibaba...       1\n",
       "\n",
       "[100859 rows x 2 columns]"
      ]
     },
     "execution_count": 2,
     "metadata": {},
     "output_type": "execute_result"
    }
   ],
   "source": [
    "df"
   ]
  },
  {
   "cell_type": "code",
   "execution_count": 3,
   "id": "b88408bb",
   "metadata": {},
   "outputs": [
    {
     "data": {
      "text/plain": [
       "0"
      ]
     },
     "execution_count": 3,
     "metadata": {},
     "output_type": "execute_result"
    }
   ],
   "source": [
    "df.isnull().sum().sum()"
   ]
  },
  {
   "cell_type": "code",
   "execution_count": 4,
   "id": "c2b0a975",
   "metadata": {},
   "outputs": [
    {
     "data": {
      "text/html": [
       "<div>\n",
       "<style scoped>\n",
       "    .dataframe tbody tr th:only-of-type {\n",
       "        vertical-align: middle;\n",
       "    }\n",
       "\n",
       "    .dataframe tbody tr th {\n",
       "        vertical-align: top;\n",
       "    }\n",
       "\n",
       "    .dataframe thead th {\n",
       "        text-align: right;\n",
       "    }\n",
       "</style>\n",
       "<table border=\"1\" class=\"dataframe\">\n",
       "  <thead>\n",
       "    <tr style=\"text-align: right;\">\n",
       "      <th></th>\n",
       "      <th>links</th>\n",
       "      <th>values</th>\n",
       "    </tr>\n",
       "  </thead>\n",
       "  <tbody>\n",
       "    <tr>\n",
       "      <th>0</th>\n",
       "      <td>http://yasli-sad.ru/css/chase/chaseall%20newin...</td>\n",
       "      <td>1</td>\n",
       "    </tr>\n",
       "    <tr>\n",
       "      <th>1</th>\n",
       "      <td>http://denizkent.net/wp-admin/js/login.alibaba...</td>\n",
       "      <td>1</td>\n",
       "    </tr>\n",
       "    <tr>\n",
       "      <th>2</th>\n",
       "      <td>http://www.marketbiz.net/mbz/wp-includes/js/jq...</td>\n",
       "      <td>1</td>\n",
       "    </tr>\n",
       "    <tr>\n",
       "      <th>3</th>\n",
       "      <td>http://guardiaoitau30horas.uniclassdispositivo...</td>\n",
       "      <td>1</td>\n",
       "    </tr>\n",
       "    <tr>\n",
       "      <th>4</th>\n",
       "      <td>http://chancejumpers.com/christmas/christmas-h...</td>\n",
       "      <td>0</td>\n",
       "    </tr>\n",
       "    <tr>\n",
       "      <th>...</th>\n",
       "      <td>...</td>\n",
       "      <td>...</td>\n",
       "    </tr>\n",
       "    <tr>\n",
       "      <th>100854</th>\n",
       "      <td>http://crop-topsnn.oucreate.com/grn/</td>\n",
       "      <td>1</td>\n",
       "    </tr>\n",
       "    <tr>\n",
       "      <th>100855</th>\n",
       "      <td>http://jacksonvillenursinghomelawyers.com/Driv...</td>\n",
       "      <td>1</td>\n",
       "    </tr>\n",
       "    <tr>\n",
       "      <th>100856</th>\n",
       "      <td>http://www.smallappliance.com/product.asp?cur=...</td>\n",
       "      <td>0</td>\n",
       "    </tr>\n",
       "    <tr>\n",
       "      <th>100857</th>\n",
       "      <td>http://www.skofija-novomesto.si/</td>\n",
       "      <td>0</td>\n",
       "    </tr>\n",
       "    <tr>\n",
       "      <th>100858</th>\n",
       "      <td>http://ferlafashion.com/saint/www.loginalibaba...</td>\n",
       "      <td>1</td>\n",
       "    </tr>\n",
       "  </tbody>\n",
       "</table>\n",
       "<p>100859 rows × 2 columns</p>\n",
       "</div>"
      ],
      "text/plain": [
       "                                                    links  values\n",
       "0       http://yasli-sad.ru/css/chase/chaseall%20newin...       1\n",
       "1       http://denizkent.net/wp-admin/js/login.alibaba...       1\n",
       "2       http://www.marketbiz.net/mbz/wp-includes/js/jq...       1\n",
       "3       http://guardiaoitau30horas.uniclassdispositivo...       1\n",
       "4       http://chancejumpers.com/christmas/christmas-h...       0\n",
       "...                                                   ...     ...\n",
       "100854               http://crop-topsnn.oucreate.com/grn/       1\n",
       "100855  http://jacksonvillenursinghomelawyers.com/Driv...       1\n",
       "100856  http://www.smallappliance.com/product.asp?cur=...       0\n",
       "100857                   http://www.skofija-novomesto.si/       0\n",
       "100858  http://ferlafashion.com/saint/www.loginalibaba...       1\n",
       "\n",
       "[100859 rows x 2 columns]"
      ]
     },
     "execution_count": 4,
     "metadata": {},
     "output_type": "execute_result"
    }
   ],
   "source": [
    "df1=df\n",
    "df1"
   ]
  },
  {
   "cell_type": "code",
   "execution_count": 5,
   "id": "d79e2d0c",
   "metadata": {},
   "outputs": [],
   "source": [
    "def makeTokens(f):\n",
    "    tkns_BySlash = str(f.encode('utf-8')).split('/')\t# make tokens after splitting by slash\n",
    "    total_Tokens = []\n",
    "    for i in tkns_BySlash:\n",
    "        tokens = str(i).split('-')\t# make tokens after splitting by dash\n",
    "        tkns_ByDot = []\n",
    "        for j in range(0,len(tokens)):\n",
    "            temp_Tokens = str(tokens[j]).split('.')\t# make tokens after splitting by dot\n",
    "            tkns_ByDot = tkns_ByDot + temp_Tokens\n",
    "        total_Tokens = total_Tokens + tokens + tkns_ByDot\n",
    "    #total_Tokens = list(set(total_Tokens))\t#remove redundant tokens\n",
    "    if 'com' in total_Tokens:\n",
    "        total_Tokens.remove('com')\t#removing .com since it occurs a lot of times and it should not be included in our features\n",
    "    return total_Tokens"
   ]
  },
  {
   "cell_type": "code",
   "execution_count": 6,
   "id": "61e1f00b",
   "metadata": {},
   "outputs": [],
   "source": [
    "#df1['links']=df1['links'].apply(lambda x:makeTokens(x))"
   ]
  },
  {
   "cell_type": "code",
   "execution_count": 7,
   "id": "9f86a886",
   "metadata": {},
   "outputs": [
    {
     "data": {
      "text/html": [
       "<div>\n",
       "<style scoped>\n",
       "    .dataframe tbody tr th:only-of-type {\n",
       "        vertical-align: middle;\n",
       "    }\n",
       "\n",
       "    .dataframe tbody tr th {\n",
       "        vertical-align: top;\n",
       "    }\n",
       "\n",
       "    .dataframe thead th {\n",
       "        text-align: right;\n",
       "    }\n",
       "</style>\n",
       "<table border=\"1\" class=\"dataframe\">\n",
       "  <thead>\n",
       "    <tr style=\"text-align: right;\">\n",
       "      <th></th>\n",
       "      <th>links</th>\n",
       "      <th>values</th>\n",
       "    </tr>\n",
       "  </thead>\n",
       "  <tbody>\n",
       "    <tr>\n",
       "      <th>0</th>\n",
       "      <td>http://yasli-sad.ru/css/chase/chaseall%20newin...</td>\n",
       "      <td>1</td>\n",
       "    </tr>\n",
       "    <tr>\n",
       "      <th>1</th>\n",
       "      <td>http://denizkent.net/wp-admin/js/login.alibaba...</td>\n",
       "      <td>1</td>\n",
       "    </tr>\n",
       "    <tr>\n",
       "      <th>2</th>\n",
       "      <td>http://www.marketbiz.net/mbz/wp-includes/js/jq...</td>\n",
       "      <td>1</td>\n",
       "    </tr>\n",
       "    <tr>\n",
       "      <th>3</th>\n",
       "      <td>http://guardiaoitau30horas.uniclassdispositivo...</td>\n",
       "      <td>1</td>\n",
       "    </tr>\n",
       "    <tr>\n",
       "      <th>4</th>\n",
       "      <td>http://chancejumpers.com/christmas/christmas-h...</td>\n",
       "      <td>0</td>\n",
       "    </tr>\n",
       "    <tr>\n",
       "      <th>...</th>\n",
       "      <td>...</td>\n",
       "      <td>...</td>\n",
       "    </tr>\n",
       "    <tr>\n",
       "      <th>100854</th>\n",
       "      <td>http://crop-topsnn.oucreate.com/grn/</td>\n",
       "      <td>1</td>\n",
       "    </tr>\n",
       "    <tr>\n",
       "      <th>100855</th>\n",
       "      <td>http://jacksonvillenursinghomelawyers.com/Driv...</td>\n",
       "      <td>1</td>\n",
       "    </tr>\n",
       "    <tr>\n",
       "      <th>100856</th>\n",
       "      <td>http://www.smallappliance.com/product.asp?cur=...</td>\n",
       "      <td>0</td>\n",
       "    </tr>\n",
       "    <tr>\n",
       "      <th>100857</th>\n",
       "      <td>http://www.skofija-novomesto.si/</td>\n",
       "      <td>0</td>\n",
       "    </tr>\n",
       "    <tr>\n",
       "      <th>100858</th>\n",
       "      <td>http://ferlafashion.com/saint/www.loginalibaba...</td>\n",
       "      <td>1</td>\n",
       "    </tr>\n",
       "  </tbody>\n",
       "</table>\n",
       "<p>100859 rows × 2 columns</p>\n",
       "</div>"
      ],
      "text/plain": [
       "                                                    links  values\n",
       "0       http://yasli-sad.ru/css/chase/chaseall%20newin...       1\n",
       "1       http://denizkent.net/wp-admin/js/login.alibaba...       1\n",
       "2       http://www.marketbiz.net/mbz/wp-includes/js/jq...       1\n",
       "3       http://guardiaoitau30horas.uniclassdispositivo...       1\n",
       "4       http://chancejumpers.com/christmas/christmas-h...       0\n",
       "...                                                   ...     ...\n",
       "100854               http://crop-topsnn.oucreate.com/grn/       1\n",
       "100855  http://jacksonvillenursinghomelawyers.com/Driv...       1\n",
       "100856  http://www.smallappliance.com/product.asp?cur=...       0\n",
       "100857                   http://www.skofija-novomesto.si/       0\n",
       "100858  http://ferlafashion.com/saint/www.loginalibaba...       1\n",
       "\n",
       "[100859 rows x 2 columns]"
      ]
     },
     "execution_count": 7,
     "metadata": {},
     "output_type": "execute_result"
    }
   ],
   "source": [
    "df1"
   ]
  },
  {
   "cell_type": "code",
   "execution_count": 8,
   "id": "253468c9",
   "metadata": {},
   "outputs": [],
   "source": [
    "y = df1[\"values\"]"
   ]
  },
  {
   "cell_type": "code",
   "execution_count": 9,
   "id": "813e1d68",
   "metadata": {},
   "outputs": [],
   "source": [
    "url_list = df1[\"links\"]"
   ]
  },
  {
   "cell_type": "code",
   "execution_count": 10,
   "id": "c072a830",
   "metadata": {},
   "outputs": [],
   "source": [
    "#tfid vectoriser\n",
    "vectorizer = TfidfVectorizer(tokenizer=makeTokens)"
   ]
  },
  {
   "cell_type": "code",
   "execution_count": 11,
   "id": "4c2e7036",
   "metadata": {},
   "outputs": [],
   "source": [
    "#Count vectoriser\n",
    "vectorizer1=CountVectorizer(tokenizer=makeTokens)"
   ]
  },
  {
   "cell_type": "code",
   "execution_count": 12,
   "id": "42d95113",
   "metadata": {},
   "outputs": [
    {
     "data": {
      "text/html": [
       "<div>\n",
       "<style scoped>\n",
       "    .dataframe tbody tr th:only-of-type {\n",
       "        vertical-align: middle;\n",
       "    }\n",
       "\n",
       "    .dataframe tbody tr th {\n",
       "        vertical-align: top;\n",
       "    }\n",
       "\n",
       "    .dataframe thead th {\n",
       "        text-align: right;\n",
       "    }\n",
       "</style>\n",
       "<table border=\"1\" class=\"dataframe\">\n",
       "  <thead>\n",
       "    <tr style=\"text-align: right;\">\n",
       "      <th></th>\n",
       "      <th>links</th>\n",
       "      <th>values</th>\n",
       "    </tr>\n",
       "  </thead>\n",
       "  <tbody>\n",
       "    <tr>\n",
       "      <th>0</th>\n",
       "      <td>http://yasli-sad.ru/css/chase/chaseall%20newin...</td>\n",
       "      <td>1</td>\n",
       "    </tr>\n",
       "    <tr>\n",
       "      <th>1</th>\n",
       "      <td>http://denizkent.net/wp-admin/js/login.alibaba...</td>\n",
       "      <td>1</td>\n",
       "    </tr>\n",
       "    <tr>\n",
       "      <th>2</th>\n",
       "      <td>http://www.marketbiz.net/mbz/wp-includes/js/jq...</td>\n",
       "      <td>1</td>\n",
       "    </tr>\n",
       "    <tr>\n",
       "      <th>3</th>\n",
       "      <td>http://guardiaoitau30horas.uniclassdispositivo...</td>\n",
       "      <td>1</td>\n",
       "    </tr>\n",
       "    <tr>\n",
       "      <th>4</th>\n",
       "      <td>http://chancejumpers.com/christmas/christmas-h...</td>\n",
       "      <td>0</td>\n",
       "    </tr>\n",
       "    <tr>\n",
       "      <th>...</th>\n",
       "      <td>...</td>\n",
       "      <td>...</td>\n",
       "    </tr>\n",
       "    <tr>\n",
       "      <th>100854</th>\n",
       "      <td>http://crop-topsnn.oucreate.com/grn/</td>\n",
       "      <td>1</td>\n",
       "    </tr>\n",
       "    <tr>\n",
       "      <th>100855</th>\n",
       "      <td>http://jacksonvillenursinghomelawyers.com/Driv...</td>\n",
       "      <td>1</td>\n",
       "    </tr>\n",
       "    <tr>\n",
       "      <th>100856</th>\n",
       "      <td>http://www.smallappliance.com/product.asp?cur=...</td>\n",
       "      <td>0</td>\n",
       "    </tr>\n",
       "    <tr>\n",
       "      <th>100857</th>\n",
       "      <td>http://www.skofija-novomesto.si/</td>\n",
       "      <td>0</td>\n",
       "    </tr>\n",
       "    <tr>\n",
       "      <th>100858</th>\n",
       "      <td>http://ferlafashion.com/saint/www.loginalibaba...</td>\n",
       "      <td>1</td>\n",
       "    </tr>\n",
       "  </tbody>\n",
       "</table>\n",
       "<p>100859 rows × 2 columns</p>\n",
       "</div>"
      ],
      "text/plain": [
       "                                                    links  values\n",
       "0       http://yasli-sad.ru/css/chase/chaseall%20newin...       1\n",
       "1       http://denizkent.net/wp-admin/js/login.alibaba...       1\n",
       "2       http://www.marketbiz.net/mbz/wp-includes/js/jq...       1\n",
       "3       http://guardiaoitau30horas.uniclassdispositivo...       1\n",
       "4       http://chancejumpers.com/christmas/christmas-h...       0\n",
       "...                                                   ...     ...\n",
       "100854               http://crop-topsnn.oucreate.com/grn/       1\n",
       "100855  http://jacksonvillenursinghomelawyers.com/Driv...       1\n",
       "100856  http://www.smallappliance.com/product.asp?cur=...       0\n",
       "100857                   http://www.skofija-novomesto.si/       0\n",
       "100858  http://ferlafashion.com/saint/www.loginalibaba...       1\n",
       "\n",
       "[100859 rows x 2 columns]"
      ]
     },
     "execution_count": 12,
     "metadata": {},
     "output_type": "execute_result"
    }
   ],
   "source": [
    "df1"
   ]
  },
  {
   "cell_type": "code",
   "execution_count": 13,
   "id": "f136f182",
   "metadata": {},
   "outputs": [],
   "source": [
    "# Store vectors into X variable as Our XFeatures\n",
    "X = vectorizer.fit_transform(url_list)"
   ]
  },
  {
   "cell_type": "code",
   "execution_count": 14,
   "id": "62d917f7",
   "metadata": {},
   "outputs": [],
   "source": [
    "#spliting of data\n",
    "X_train, X_test, y_train, y_test = train_test_split(X, y, test_size=0.2, random_state=42)\t"
   ]
  },
  {
   "cell_type": "code",
   "execution_count": 15,
   "id": "b0805ea3",
   "metadata": {},
   "outputs": [
    {
     "name": "stderr",
     "output_type": "stream",
     "text": [
      "C:\\Users\\vamsi\\anaconda3\\lib\\site-packages\\sklearn\\linear_model\\_logistic.py:763: ConvergenceWarning: lbfgs failed to converge (status=1):\n",
      "STOP: TOTAL NO. of ITERATIONS REACHED LIMIT.\n",
      "\n",
      "Increase the number of iterations (max_iter) or scale the data as shown in:\n",
      "    https://scikit-learn.org/stable/modules/preprocessing.html\n",
      "Please also refer to the documentation for alternative solver options:\n",
      "    https://scikit-learn.org/stable/modules/linear_model.html#logistic-regression\n",
      "  n_iter_i = _check_optimize_result(\n"
     ]
    },
    {
     "data": {
      "text/plain": [
       "LogisticRegression()"
      ]
     },
     "execution_count": 15,
     "metadata": {},
     "output_type": "execute_result"
    }
   ],
   "source": [
    "# logistic regression\n",
    "logit = LogisticRegression()\t\n",
    "logit.fit(X_train, y_train)"
   ]
  },
  {
   "cell_type": "code",
   "execution_count": 16,
   "id": "a0a31cf5",
   "metadata": {},
   "outputs": [
    {
     "name": "stdout",
     "output_type": "stream",
     "text": [
      "Accuracy  0.9133948046797541\n"
     ]
    }
   ],
   "source": [
    "# Accuracy of TfidfVectorizer using logistic regression\n",
    "print(\"Accuracy \",logit.score(X_test, y_test))"
   ]
  },
  {
   "cell_type": "code",
   "execution_count": 17,
   "id": "502d8789",
   "metadata": {},
   "outputs": [
    {
     "name": "stdout",
     "output_type": "stream",
     "text": [
      "  (0, 177953)\t0.23836641464735417\n",
      "  (0, 212759)\t0.21434113579550898\n",
      "  (0, 212782)\t0.2809202719903773\n",
      "  (0, 233026)\t0.3462895541244887\n",
      "  (0, 60550)\t0.4316519585358452\n",
      "  (0, 60526)\t0.3564463185316674\n",
      "  (0, 69685)\t0.28966355492206364\n",
      "  (0, 196422)\t0.10279762925798124\n",
      "  (0, 197724)\t0.21363213508589624\n",
      "  (0, 197725)\t0.2182432938282971\n",
      "  (0, 273650)\t0.4364865876565942\n",
      "  (0, 0)\t0.047499519967774025\n",
      "  (0, 43404)\t0.06716685481518296\n",
      "  (1, 65181)\t0.13189827365534176\n",
      "  (1, 33227)\t0.22203124263537563\n",
      "  (1, 138767)\t0.16493915208629373\n",
      "  (1, 138784)\t0.37106742519839214\n",
      "  (1, 125955)\t0.4139545288659391\n",
      "  (1, 30346)\t0.3768703409843429\n",
      "  (1, 243286)\t0.31010773953802745\n",
      "  (1, 158633)\t0.15169784674085815\n",
      "  (1, 74060)\t0.40021330754886003\n",
      "  (1, 74061)\t0.40021330754886003\n",
      "  (1, 0)\t0.07188259055497509\n",
      "  (1, 43404)\t0.10164581719606619\n",
      "  :\t:\n",
      "  (100856, 0)\t0.08115053506226114\n",
      "  (100856, 43404)\t0.11475118507301289\n",
      "  (100857, 162105)\t0.4642698909002295\n",
      "  (100857, 207407)\t0.4642698909002295\n",
      "  (100857, 162106)\t0.4642698909002295\n",
      "  (100857, 266405)\t0.4642698909002295\n",
      "  (100857, 205605)\t0.30042254848959243\n",
      "  (100857, 2285)\t0.15010890844813515\n",
      "  (100857, 243847)\t0.0808883668929127\n",
      "  (100857, 0)\t0.07850126584672791\n",
      "  (100857, 43404)\t0.11100497709266323\n",
      "  (100858, 138831)\t0.23072198348668635\n",
      "  (100858, 92235)\t0.20368111860411062\n",
      "  (100858, 92236)\t0.20368111860411062\n",
      "  (100858, 175894)\t0.21284894398752138\n",
      "  (100858, 140088)\t0.3250391871773412\n",
      "  (100858, 258645)\t0.32623964256049404\n",
      "  (100858, 64985)\t0.3148388471757657\n",
      "  (100858, 198029)\t0.34657633305136876\n",
      "  (100858, 243847)\t0.08039601454379994\n",
      "  (100858, 65181)\t0.07158310100583824\n",
      "  (100858, 33227)\t0.6024978351707255\n",
      "  (100858, 138767)\t0.08951486366275357\n",
      "  (100858, 0)\t0.039011721667440526\n",
      "  (100858, 43404)\t0.05516465528714901\n"
     ]
    }
   ],
   "source": [
    "print(X)"
   ]
  },
  {
   "cell_type": "code",
   "execution_count": 18,
   "id": "fa976b99",
   "metadata": {},
   "outputs": [],
   "source": [
    "X1 = vectorizer1.fit_transform(url_list)"
   ]
  },
  {
   "cell_type": "code",
   "execution_count": 19,
   "id": "f36e22cf",
   "metadata": {},
   "outputs": [],
   "source": [
    "X1_train, X1_test, y_train, y_test = train_test_split(X1, y, test_size=0.2, random_state=42)\t"
   ]
  },
  {
   "cell_type": "code",
   "execution_count": 20,
   "id": "3c7e55c8",
   "metadata": {},
   "outputs": [
    {
     "name": "stderr",
     "output_type": "stream",
     "text": [
      "C:\\Users\\vamsi\\anaconda3\\lib\\site-packages\\sklearn\\linear_model\\_logistic.py:763: ConvergenceWarning: lbfgs failed to converge (status=1):\n",
      "STOP: TOTAL NO. of ITERATIONS REACHED LIMIT.\n",
      "\n",
      "Increase the number of iterations (max_iter) or scale the data as shown in:\n",
      "    https://scikit-learn.org/stable/modules/preprocessing.html\n",
      "Please also refer to the documentation for alternative solver options:\n",
      "    https://scikit-learn.org/stable/modules/linear_model.html#logistic-regression\n",
      "  n_iter_i = _check_optimize_result(\n"
     ]
    },
    {
     "data": {
      "text/plain": [
       "LogisticRegression()"
      ]
     },
     "execution_count": 20,
     "metadata": {},
     "output_type": "execute_result"
    }
   ],
   "source": [
    "#logistic regression using count vectorizer\n",
    "logit = LogisticRegression()\t\n",
    "logit.fit(X1_train, y_train)"
   ]
  },
  {
   "cell_type": "code",
   "execution_count": 21,
   "id": "c36304e9",
   "metadata": {},
   "outputs": [
    {
     "name": "stdout",
     "output_type": "stream",
     "text": [
      "Accuracy  0.7389946460440214\n"
     ]
    }
   ],
   "source": [
    "# Accuracy of counterVectorizer using logistic regression\n",
    "print(\"Accuracy \",logit.score(X_test, y_test))"
   ]
  },
  {
   "cell_type": "code",
   "execution_count": 22,
   "id": "2e30b638",
   "metadata": {},
   "outputs": [
    {
     "name": "stdout",
     "output_type": "stream",
     "text": [
      "  (0, 43404)\t2\n",
      "  (0, 0)\t2\n",
      "  (0, 273650)\t2\n",
      "  (0, 197725)\t1\n",
      "  (0, 197724)\t1\n",
      "  (0, 196422)\t1\n",
      "  (0, 69685)\t2\n",
      "  (0, 60526)\t2\n",
      "  (0, 60550)\t2\n",
      "  (0, 233026)\t2\n",
      "  (0, 212782)\t1\n",
      "  (0, 212759)\t1\n",
      "  (0, 177953)\t1\n",
      "  (1, 43404)\t2\n",
      "  (1, 0)\t2\n",
      "  (1, 74061)\t1\n",
      "  (1, 74060)\t1\n",
      "  (1, 158633)\t1\n",
      "  (1, 243286)\t2\n",
      "  (1, 30346)\t2\n",
      "  (1, 125955)\t2\n",
      "  (1, 138784)\t1\n",
      "  (1, 138767)\t1\n",
      "  (1, 33227)\t1\n",
      "  (1, 65181)\t1\n",
      "  :\t:\n",
      "  (100856, 185185)\t1\n",
      "  (100856, 39761)\t1\n",
      "  (100857, 43404)\t2\n",
      "  (100857, 0)\t2\n",
      "  (100857, 243847)\t1\n",
      "  (100857, 2285)\t2\n",
      "  (100857, 205605)\t1\n",
      "  (100857, 266405)\t1\n",
      "  (100857, 162106)\t1\n",
      "  (100857, 207407)\t1\n",
      "  (100857, 162105)\t1\n",
      "  (100858, 43404)\t2\n",
      "  (100858, 0)\t2\n",
      "  (100858, 138767)\t1\n",
      "  (100858, 33227)\t5\n",
      "  (100858, 65181)\t1\n",
      "  (100858, 243847)\t2\n",
      "  (100858, 198029)\t2\n",
      "  (100858, 64985)\t3\n",
      "  (100858, 258645)\t2\n",
      "  (100858, 140088)\t2\n",
      "  (100858, 175894)\t1\n",
      "  (100858, 92236)\t1\n",
      "  (100858, 92235)\t1\n",
      "  (100858, 138831)\t1\n"
     ]
    }
   ],
   "source": [
    "print(X1)"
   ]
  },
  {
   "cell_type": "code",
   "execution_count": 23,
   "id": "5d68e1af",
   "metadata": {},
   "outputs": [
    {
     "data": {
      "text/plain": [
       "RandomForestClassifier(criterion='entropy', n_estimators=10)"
      ]
     },
     "execution_count": 23,
     "metadata": {},
     "output_type": "execute_result"
    }
   ],
   "source": [
    "rf = RandomForestClassifier(n_estimators=10,criterion=\"entropy\")\t\n",
    "rf.fit(X_train, y_train)"
   ]
  },
  {
   "cell_type": "code",
   "execution_count": 24,
   "id": "21867fab",
   "metadata": {},
   "outputs": [
    {
     "name": "stdout",
     "output_type": "stream",
     "text": [
      "Accuracy  0.9203846916517946\n"
     ]
    }
   ],
   "source": [
    "# Accuracy of TfidfVectorizer using random forest classifiers\n",
    "print(\"Accuracy \",rf.score(X_test, y_test))"
   ]
  },
  {
   "cell_type": "code",
   "execution_count": 25,
   "id": "ffb2dac3",
   "metadata": {},
   "outputs": [
    {
     "data": {
      "text/plain": [
       "RandomForestClassifier(criterion='entropy', n_estimators=10)"
      ]
     },
     "execution_count": 25,
     "metadata": {},
     "output_type": "execute_result"
    }
   ],
   "source": [
    "rf = RandomForestClassifier(n_estimators=10,criterion=\"entropy\")\t\n",
    "rf.fit(X1_train, y_train)"
   ]
  },
  {
   "cell_type": "code",
   "execution_count": 26,
   "id": "ec2d45ae",
   "metadata": {},
   "outputs": [
    {
     "name": "stdout",
     "output_type": "stream",
     "text": [
      "Accuracy  0.9157247670037676\n"
     ]
    }
   ],
   "source": [
    "# Accuracy of countvectorizer using random forest classifiers\n",
    "print(\"Accuracy \",rf.score(X1_test, y_test))"
   ]
  },
  {
   "cell_type": "code",
   "execution_count": null,
   "id": "329f5b4b",
   "metadata": {},
   "outputs": [],
   "source": []
  }
 ],
 "metadata": {
  "kernelspec": {
   "display_name": "Python 3",
   "language": "python",
   "name": "python3"
  },
  "language_info": {
   "codemirror_mode": {
    "name": "ipython",
    "version": 3
   },
   "file_extension": ".py",
   "mimetype": "text/x-python",
   "name": "python",
   "nbconvert_exporter": "python",
   "pygments_lexer": "ipython3",
   "version": "3.8.8"
  }
 },
 "nbformat": 4,
 "nbformat_minor": 5
}
